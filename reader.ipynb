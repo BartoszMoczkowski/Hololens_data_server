{
 "cells": [
  {
   "cell_type": "code",
   "execution_count": 48,
   "metadata": {},
   "outputs": [
    {
     "name": "stdout",
     "output_type": "stream",
     "text": [
      "{'eye_tracking_data': {'Wideo': [{'event_id': 2, 'miliseconds_since_start': 2213.5143000000003, 'has_started_looking': True}, {'event_id': 3, 'miliseconds_since_start': 2317.799, 'has_started_looking': False}, {'event_id': 4, 'miliseconds_since_start': 2941.4603, 'has_started_looking': True}, {'event_id': 7, 'miliseconds_since_start': 5130.5335000000005, 'has_started_looking': False}, {'event_id': 8, 'miliseconds_since_start': 5830.401800000001, 'has_started_looking': True}, {'event_id': 9, 'miliseconds_since_start': 5831.4026, 'has_started_looking': False}, {'event_id': 10, 'miliseconds_since_start': 5862.4017, 'has_started_looking': True}, {'event_id': 11, 'miliseconds_since_start': 5865.4016, 'has_started_looking': False}, {'event_id': 12, 'miliseconds_since_start': 5867.4016, 'has_started_looking': True}, {'event_id': 15, 'miliseconds_since_start': 7522.807500000001, 'has_started_looking': False}, {'event_id': 16, 'miliseconds_since_start': 7987.2453000000005, 'has_started_looking': True}, {'event_id': 17, 'miliseconds_since_start': 8001.2448, 'has_started_looking': False}, {'event_id': 18, 'miliseconds_since_start': 8017.2448, 'has_started_looking': True}, {'event_id': 28, 'miliseconds_since_start': 13135.8968, 'has_started_looking': False}]}, 'step_switches': [{'event_id': 0, 'miliseconds_since_start': 0.0, 'switched_forward': False, 'step_number': 0}, {'event_id': 1, 'miliseconds_since_start': 1857.9758000000002, 'switched_forward': True, 'step_number': 1}, {'event_id': 5, 'miliseconds_since_start': 4238.8815, 'switched_forward': True, 'step_number': 2}, {'event_id': 6, 'miliseconds_since_start': 4771.6755, 'switched_forward': True, 'step_number': 3}, {'event_id': 13, 'miliseconds_since_start': 6890.496, 'switched_forward': True, 'step_number': 4}, {'event_id': 14, 'miliseconds_since_start': 7145.188300000001, 'switched_forward': True, 'step_number': 5}, {'event_id': 19, 'miliseconds_since_start': 9014.987000000001, 'switched_forward': True, 'step_number': 6}, {'event_id': 20, 'miliseconds_since_start': 9431.1119, 'switched_forward': True, 'step_number': 7}, {'event_id': 21, 'miliseconds_since_start': 9950.467700000001, 'switched_forward': True, 'step_number': 8}, {'event_id': 22, 'miliseconds_since_start': 10422.6008, 'switched_forward': True, 'step_number': 9}, {'event_id': 23, 'miliseconds_since_start': 10716.9663, 'switched_forward': True, 'step_number': 10}, {'event_id': 24, 'miliseconds_since_start': 10979.8732, 'switched_forward': True, 'step_number': 11}, {'event_id': 25, 'miliseconds_since_start': 11268.1005, 'switched_forward': True, 'step_number': 12}, {'event_id': 26, 'miliseconds_since_start': 11558.8695, 'switched_forward': True, 'step_number': 13}, {'event_id': 27, 'miliseconds_since_start': 11879.6093, 'switched_forward': True, 'step_number': 14}, {'event_id': 29, 'miliseconds_since_start': 13136.8963, 'switched_forward': False, 'step_number': 15}]}\n"
     ]
    }
   ],
   "source": [
    "import json\n",
    "with open(\"eye_tracking_data/2024-12-16_13_14_01.437830.txt\") as file:\n",
    "    js = json.load(file)\n",
    "    print(js)"
   ]
  },
  {
   "cell_type": "code",
   "execution_count": 49,
   "metadata": {},
   "outputs": [
    {
     "name": "stdout",
     "output_type": "stream",
     "text": [
      "Wideo\n",
      "[{'event_id': 2, 'miliseconds_since_start': 2213.5143000000003, 'has_started_looking': True}, {'event_id': 3, 'miliseconds_since_start': 2317.799, 'has_started_looking': False}, {'event_id': 4, 'miliseconds_since_start': 2941.4603, 'has_started_looking': True}, {'event_id': 7, 'miliseconds_since_start': 5130.5335000000005, 'has_started_looking': False}, {'event_id': 8, 'miliseconds_since_start': 5830.401800000001, 'has_started_looking': True}, {'event_id': 9, 'miliseconds_since_start': 5831.4026, 'has_started_looking': False}, {'event_id': 10, 'miliseconds_since_start': 5862.4017, 'has_started_looking': True}, {'event_id': 11, 'miliseconds_since_start': 5865.4016, 'has_started_looking': False}, {'event_id': 12, 'miliseconds_since_start': 5867.4016, 'has_started_looking': True}, {'event_id': 15, 'miliseconds_since_start': 7522.807500000001, 'has_started_looking': False}, {'event_id': 16, 'miliseconds_since_start': 7987.2453000000005, 'has_started_looking': True}, {'event_id': 17, 'miliseconds_since_start': 8001.2448, 'has_started_looking': False}, {'event_id': 18, 'miliseconds_since_start': 8017.2448, 'has_started_looking': True}, {'event_id': 28, 'miliseconds_since_start': 13135.8968, 'has_started_looking': False}]\n",
      "[{'event_id': 2, 'miliseconds_since_start': 2213.5143000000003, 'has_started_looking': True}, {'event_id': 3, 'miliseconds_since_start': 2317.799, 'has_started_looking': False}, {'event_id': 4, 'miliseconds_since_start': 2941.4603, 'has_started_looking': True}, {'event_id': 7, 'miliseconds_since_start': 5130.5335000000005, 'has_started_looking': False}, {'event_id': 8, 'miliseconds_since_start': 5830.401800000001, 'has_started_looking': True}, {'event_id': 9, 'miliseconds_since_start': 5831.4026, 'has_started_looking': False}, {'event_id': 10, 'miliseconds_since_start': 5862.4017, 'has_started_looking': True}, {'event_id': 11, 'miliseconds_since_start': 5865.4016, 'has_started_looking': False}, {'event_id': 12, 'miliseconds_since_start': 5867.4016, 'has_started_looking': True}, {'event_id': 15, 'miliseconds_since_start': 7522.807500000001, 'has_started_looking': False}, {'event_id': 16, 'miliseconds_since_start': 7987.2453000000005, 'has_started_looking': True}, {'event_id': 17, 'miliseconds_since_start': 8001.2448, 'has_started_looking': False}, {'event_id': 18, 'miliseconds_since_start': 8017.2448, 'has_started_looking': True}, {'event_id': 28, 'miliseconds_since_start': 13135.8968, 'has_started_looking': False}]\n"
     ]
    }
   ],
   "source": [
    "eyetrackdata = 0\n",
    "for key in js[\"eye_tracking_data\"]:\n",
    "    print(key)\n",
    "\n",
    "    eyetrackdata = list(js[\"eye_tracking_data\"][key])\n",
    "\n",
    "print(eyetrackdata)\n",
    "\n",
    "eyetrackdata.sort(key=lambda x :x[\"event_id\"])\n",
    "print(eyetrackdata)"
   ]
  },
  {
   "cell_type": "code",
   "execution_count": 50,
   "metadata": {},
   "outputs": [
    {
     "name": "stdout",
     "output_type": "stream",
     "text": [
      "total time 0\n"
     ]
    }
   ],
   "source": [
    "totalcount =  eyetrackdata[-1]['event_id']\n",
    "\n",
    "totallooktime = 0\n",
    "prev_timestamp = 0\n",
    "prev_started = False\n",
    "timestamps = totalcount * [0,]\n",
    "totallooktime_for_each_timestamp = totalcount * [0,]\n",
    "\n",
    "print(f\"total time {totallooktime}\")\n",
    "for event in eyetrackdata:\n",
    "    current_timestamp = event['miliseconds_since_start']\n",
    "    timestamps.append(current_timestamp/1000)\n",
    "        \n",
    "    if prev_started and not event['has_started_looking']:\n",
    "        totallooktime += current_timestamp - prev_timestamp\n",
    "        totallooktime_for_each_timestamp.append(totallooktime/1000)\n",
    "    else:\n",
    "        totallooktime_for_each_timestamp.append(totallooktime/1000)\n",
    "\n",
    "        \n",
    "\n",
    "    prev_timestamp = current_timestamp\n",
    "    prev_started = event['has_started_looking']\n"
   ]
  },
  {
   "cell_type": "code",
   "execution_count": 51,
   "metadata": {},
   "outputs": [
    {
     "name": "stdout",
     "output_type": "stream",
     "text": [
      "42\n"
     ]
    },
    {
     "data": {
      "text/plain": [
       "42"
      ]
     },
     "execution_count": 51,
     "metadata": {},
     "output_type": "execute_result"
    }
   ],
   "source": [
    "print(len(timestamps))\n",
    "len(totallooktime_for_each_timestamp)"
   ]
  },
  {
   "cell_type": "code",
   "execution_count": 52,
   "metadata": {},
   "outputs": [
    {
     "name": "stdout",
     "output_type": "stream",
     "text": [
      "[0, 0, 0, 0, 0, 0, 0, 0, 0, 0, 0, 0, 0, 0, 0, 0, 0, 0, 0, 0, 0, 0, 0, 0, 0, 0, 0, 0, 2.2135143000000004, 2.317799, 2.9414603, 5.1305335, 5.830401800000001, 5.8314026000000005, 5.8624017, 5.8654016, 5.8674016, 7.522807500000001, 7.9872453000000005, 8.0012448, 8.0172448, 13.135896800000001] [0, 0, 0, 0, 0, 0, 0, 0, 0, 0, 0, 0, 0, 0, 0, 0, 0, 0, 0, 0, 0, 0, 0, 0, 0, 0, 0, 0, 0.0, 0.1042846999999997, 0.1042846999999997, 2.2933579, 2.2933579, 2.2943586999999996, 2.2943586999999996, 2.2973585999999995, 2.2973585999999995, 3.9527645000000002, 3.9527645000000002, 3.966764, 3.966764, 9.085416]\n"
     ]
    }
   ],
   "source": [
    "print(timestamps,totallooktime_for_each_timestamp)"
   ]
  },
  {
   "cell_type": "code",
   "execution_count": 53,
   "metadata": {},
   "outputs": [
    {
     "data": {
      "text/plain": [
       "[<matplotlib.lines.Line2D at 0x2d66c107950>]"
      ]
     },
     "execution_count": 53,
     "metadata": {},
     "output_type": "execute_result"
    },
    {
     "data": {
      "image/png": "[encoded data removed]",
      "text/plain": [
       "<Figure size 640x480 with 1 Axes>"
      ]
     },
     "metadata": {},
     "output_type": "display_data"
    }
   ],
   "source": [
    "import matplotlib.pyplot as plt\n",
    "\n",
    "plt.plot(timestamps,totallooktime_for_each_timestamp)"
   ]
  },
  {
   "cell_type": "code",
   "execution_count": 54,
   "metadata": {},
   "outputs": [],
   "source": [
    "stepdata = list(js[\"step_switches\"])\n",
    "stepdata.sort(key = lambda x : x[\"event_id\"])\n"
   ]
  },
  {
   "cell_type": "code",
   "execution_count": 55,
   "metadata": {},
   "outputs": [],
   "source": [
    "step_timestamps = []\n",
    "steps = []\n",
    "\n",
    "for event in stepdata:\n",
    "    step_timestamps.append(event[\"miliseconds_since_start\"]/1000)\n",
    "    steps.append(event[\"step_number\"])"
   ]
  },
  {
   "cell_type": "code",
   "execution_count": 56,
   "metadata": {},
   "outputs": [
    {
     "name": "stdout",
     "output_type": "stream",
     "text": [
      "[0.0, 1.8579758000000002, 4.238881500000001, 4.771675500000001, 6.890496, 7.145188300000001, 9.014987000000001, 9.4311119, 9.9504677, 10.4226008, 10.7169663, 10.9798732, 11.268100500000001, 11.5588695, 11.8796093, 13.1368963]\n"
     ]
    }
   ],
   "source": [
    "print(step_timestamps)"
   ]
  },
  {
   "cell_type": "code",
   "execution_count": 57,
   "metadata": {},
   "outputs": [
    {
     "name": "stdout",
     "output_type": "stream",
     "text": [
      "[0.0, 1.8579758000000002, 4.238881500000001, 4.771675500000001, 6.890496, 7.145188300000001, 9.014987000000001, 9.4311119, 9.9504677, 10.4226008, 10.7169663, 10.9798732, 11.268100500000001, 11.5588695, 11.8796093, 13.1368963] [0, 1, 2, 3, 4, 5, 6, 7, 8, 9, 10, 11, 12, 13, 14, 15]\n",
      "[0, 0, 0, 0, 0, 0, 0, 0, 0, 0, 0, 0, 0, 0, 0, 0, 0, 0, 0, 0, 0, 0, 0, 0, 0, 0, 0, 0, 2.2135143000000004, 2.317799, 2.9414603, 5.1305335, 5.830401800000001, 5.8314026000000005, 5.8624017, 5.8654016, 5.8674016, 7.522807500000001, 7.9872453000000005, 8.0012448, 8.0172448, 13.135896800000001] [0, 0, 0, 0, 0, 0, 0, 0, 0, 0, 0, 0, 0, 0, 0, 0, 0, 0, 0, 0, 0, 0, 0, 0, 0, 0, 0, 0, 0.0, 0.1042846999999997, 0.1042846999999997, 2.2933579, 2.2933579, 2.2943586999999996, 2.2943586999999996, 2.2973585999999995, 2.2973585999999995, 3.9527645000000002, 3.9527645000000002, 3.966764, 3.966764, 9.085416]\n",
      "[(0, 0.0), (1, 0.0), (2, 1.4017059000000005), (3, 1.9344999000000007), (4, 3.320452999999999), (5, 3.575145300000001), (6, 4.964506200000001), (7, 5.380631099999999), (8, 5.8999869), (9, 6.372119999999999), (10, 6.6664854999999985), (11, 6.929392399999999), (12, 7.2176197), (13, 7.508388699999999), (14, 7.8291284999999995), (15, 9.0864155)]\n"
     ]
    }
   ],
   "source": [
    "print(step_timestamps,steps)\n",
    "print(timestamps,totallooktime_for_each_timestamp)\n",
    "\n",
    "time_spent_at_step_switch = []\n",
    "for t,step in zip(step_timestamps,steps):\n",
    "    \n",
    "\n",
    "    i = 0\n",
    "    while timestamps[i] < t:\n",
    "        if i >= len(timestamps)-1:\n",
    "            break\n",
    "        i += 1\n",
    "\n",
    "    tt0 = totallooktime_for_each_timestamp[i-1]\n",
    "    tt1 = totallooktime_for_each_timestamp[i]\n",
    "\n",
    "    t0 = timestamps[i-1]\n",
    "    t1 = timestamps[i]\n",
    "\n",
    "    interpolated_time = tt0 + (t-t0)*(tt1-tt0)/(t1-t0)\n",
    "    time_spent_at_step_switch.append((step,interpolated_time))\n",
    "\n",
    "print(time_spent_at_step_switch)"
   ]
  },
  {
   "cell_type": "code",
   "execution_count": 65,
   "metadata": {},
   "outputs": [
    {
     "name": "stdout",
     "output_type": "stream",
     "text": [
      "[(0, 0.0), (1, 0.0), (2, 1.4017059000000005), (3, 0.5327940000000002), (4, 1.3859530999999985), (5, 0.25469230000000165), (6, 1.3893608999999998), (7, 0.416124899999998), (8, 0.5193558000000014), (9, 0.47213309999999886), (10, 0.2943654999999996), (11, 0.26290690000000083), (12, 0.28822730000000085), (13, 0.29076899999999917), (14, 0.32073980000000013), (15, 1.2572869999999998)]\n"
     ]
    }
   ],
   "source": [
    "time_spent_step = []\n",
    "prev_time = time_spent_at_step_switch[0][1]\n",
    "for step,time in time_spent_at_step_switch :\n",
    "    \n",
    "    time_spent_step.append((step,time - prev_time))\n",
    "    prev_time = time\n",
    "\n",
    "print(time_spent_step)\n",
    " "
   ]
  },
  {
   "cell_type": "code",
   "execution_count": 59,
   "metadata": {},
   "outputs": [
    {
     "name": "stdout",
     "output_type": "stream",
     "text": [
      "{0: 0.0, 1: 0.0, 2: 1.4017059000000005, 3: 0.5327940000000002, 4: 1.3859530999999985, 5: 0.25469230000000165, 6: 1.3893608999999998, 7: 0.416124899999998, 8: 0.5193558000000014, 9: 0.47213309999999886, 10: 0.2943654999999996, 11: 0.26290690000000083, 12: 0.28822730000000085, 13: 0.29076899999999917, 14: 0.32073980000000013, 15: 1.2572869999999998}\n"
     ]
    }
   ],
   "source": [
    "time_spent_per_step = {}\n",
    "for step,time in time_spent_step:\n",
    "    if step not in time_spent_per_step:\n",
    "        time_spent_per_step[step] = time\n",
    "    else:\n",
    "        time_spent_per_step[step] += time\n",
    "print(time_spent_per_step)"
   ]
  },
  {
   "cell_type": "code",
   "execution_count": 60,
   "metadata": {},
   "outputs": [
    {
     "data": {
      "text/plain": [
       "<matplotlib.collections.PathCollection at 0x2d66c2cb290>"
      ]
     },
     "execution_count": 60,
     "metadata": {},
     "output_type": "execute_result"
    },
    {
     "data": {
      "image/png": "[encoded data removed]",
      "text/plain": [
       "<Figure size 640x480 with 1 Axes>"
      ]
     },
     "metadata": {},
     "output_type": "display_data"
    }
   ],
   "source": [
    "plt.plot(timestamps,totallooktime_for_each_timestamp)\n",
    "plt.scatter(step_timestamps,steps)\n",
    "Y = list(map(lambda x : x[1],time_spent_at_step_switch))\n",
    "plt.scatter(step_timestamps,Y)"
   ]
  },
  {
   "cell_type": "code",
   "execution_count": null,
   "metadata": {},
   "outputs": [],
   "source": []
  },
  {
   "cell_type": "code",
   "execution_count": 61,
   "metadata": {},
   "outputs": [],
   "source": [
    "time_spent = []\n",
    "prev_time = step_timestamps[0]\n",
    "for timestamp,istep in zip(step_timestamps[1:],steps[:-1]):\n",
    "    \n",
    "    time_spent.append((istep,timestamp - prev_time))\n",
    "    prev_time = timestamp\n",
    " "
   ]
  },
  {
   "cell_type": "code",
   "execution_count": 62,
   "metadata": {},
   "outputs": [
    {
     "data": {
      "text/plain": [
       "[(0, 1.8579758000000002),\n",
       " (1, 2.3809057000000005),\n",
       " (2, 0.532794),\n",
       " (3, 2.118820499999999),\n",
       " (4, 0.2546923000000012),\n",
       " (5, 1.8697987000000005),\n",
       " (6, 0.416124899999998),\n",
       " (7, 0.5193558000000014),\n",
       " (8, 0.47213309999999886),\n",
       " (9, 0.2943654999999996),\n",
       " (10, 0.26290690000000083),\n",
       " (11, 0.28822730000000085),\n",
       " (12, 0.29076899999999917),\n",
       " (13, 0.32073980000000013),\n",
       " (14, 1.2572869999999998)]"
      ]
     },
     "execution_count": 62,
     "metadata": {},
     "output_type": "execute_result"
    }
   ],
   "source": [
    "time_spent"
   ]
  },
  {
   "cell_type": "code",
   "execution_count": 63,
   "metadata": {},
   "outputs": [],
   "source": [
    "time_per_step = {}\n",
    "for step,time in time_spent:\n",
    "    if step not in time_per_step:\n",
    "        time_per_step[step] = time/1000\n",
    "    else:\n",
    "        time_per_step[step] += time/1000\n"
   ]
  },
  {
   "cell_type": "code",
   "execution_count": 64,
   "metadata": {},
   "outputs": [
    {
     "name": "stdout",
     "output_type": "stream",
     "text": [
      "{0: 0.0018579758000000003, 1: 0.0023809057000000007, 2: 0.000532794, 3: 0.0021188204999999993, 4: 0.0002546923000000012, 5: 0.0018697987000000004, 6: 0.000416124899999998, 7: 0.0005193558000000013, 8: 0.00047213309999999886, 9: 0.0002943654999999996, 10: 0.00026290690000000083, 11: 0.00028822730000000086, 12: 0.00029076899999999915, 13: 0.0003207398000000001, 14: 0.0012572869999999997}\n"
     ]
    }
   ],
   "source": [
    "print(time_per_step)"
   ]
  },
  {
   "cell_type": "code",
   "execution_count": 68,
   "metadata": {},
   "outputs": [],
   "source": [
    "f = r\".\\eye_tracking_data\\2024-12-16_13_14_01.437830.txt\""
   ]
  },
  {
   "cell_type": "code",
   "execution_count": 69,
   "metadata": {},
   "outputs": [
    {
     "data": {
      "text/plain": [
       "'.\\\\eye_tracking_data\\\\2024-12-16_13_14_01.437830.txt'"
      ]
     },
     "execution_count": 69,
     "metadata": {},
     "output_type": "execute_result"
    }
   ],
   "source": [
    "f"
   ]
  }
 ],
 "metadata": {
  "kernelspec": {
   "display_name": "base",
   "language": "python",
   "name": "python3"
  },
  "language_info": {
   "codemirror_mode": {
    "name": "ipython",
    "version": 3
   },
   "file_extension": ".py",
   "mimetype": "text/x-python",
   "name": "python",
   "nbconvert_exporter": "python",
   "pygments_lexer": "ipython3",
   "version": "3.12.3"
  }
 },
 "nbformat": 4,
 "nbformat_minor": 2
}
