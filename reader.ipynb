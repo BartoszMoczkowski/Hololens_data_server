{
 "cells": [
  {
   "cell_type": "code",
   "execution_count": 18,
   "metadata": {},
   "outputs": [
    {
     "name": "stdout",
     "output_type": "stream",
     "text": [
      "{'': [{'seconds_since_start': 0, 'has_started_looking': True}, {'seconds_since_start': 4, 'has_started_looking': False}, {'seconds_since_start': 4, 'has_started_looking': True}]}\n"
     ]
    }
   ],
   "source": [
    "import json\n",
    "with open(\"eye_tracking_data\\\\2024-09-30_14_21_52.193482.txt\") as file:\n",
    "    js = json.load(file)\n",
    "    print(js)"
   ]
  },
  {
   "cell_type": "code",
   "execution_count": 16,
   "metadata": {},
   "outputs": [
    {
     "data": {
      "text/plain": [
       "'test'"
      ]
     },
     "execution_count": 16,
     "metadata": {},
     "output_type": "execute_result"
    }
   ],
   "source": [
    "x = b'test'\n",
    "\n",
    "str(x,encoding='utf-8')"
   ]
  },
  {
   "cell_type": "code",
   "execution_count": null,
   "metadata": {},
   "outputs": [],
   "source": []
  }
 ],
 "metadata": {
  "kernelspec": {
   "display_name": "base",
   "language": "python",
   "name": "python3"
  },
  "language_info": {
   "codemirror_mode": {
    "name": "ipython",
    "version": 3
   },
   "file_extension": ".py",
   "mimetype": "text/x-python",
   "name": "python",
   "nbconvert_exporter": "python",
   "pygments_lexer": "ipython3",
   "version": "3.9.13"
  }
 },
 "nbformat": 4,
 "nbformat_minor": 2
}
